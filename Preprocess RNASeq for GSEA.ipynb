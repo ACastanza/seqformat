{
 "cells": [
  {
   "cell_type": "markdown",
   "metadata": {},
   "source": [
    "# seqFormatteR V2\n",
    "### Contact Information\n",
    "\n",
    "Anthony S. Castanza, PhD - acastanza@ucsd.edu\n",
    "### Summary\n",
    "https://github.com/ACastanza/seqformat"
   ]
  },
  {
   "cell_type": "markdown",
   "metadata": {},
   "source": [
    "## Installation \n",
    "Install required R libraries for the pipeline."
   ]
  },
  {
   "cell_type": "code",
   "execution_count": null,
   "metadata": {
    "scrolled": true
   },
   "outputs": [],
   "source": [
    "install.packages(\"BiocManager\", repos=\"http://cran.r-project.org\")\n",
    "library(\"BiocManager\")\n",
    "BiocManager::install(c(\"GEOquery\",\"tximport\", \"GenomicFeatures\", \"biomaRt\", \"rhdf5\", \"DESeq2\"))\n",
    "install.packages(\"tidyverse\")"
   ]
  },
  {
   "cell_type": "markdown",
   "metadata": {},
   "source": [
    "## Configure Enviornment\n",
    "Load required packages and configure global variables"
   ]
  },
  {
   "cell_type": "code",
   "execution_count": null,
   "metadata": {
    "scrolled": true
   },
   "outputs": [],
   "source": [
    "library(\"tools\")\n",
    "library(\"dplyr\")\n",
    "library(\"tidyr\")\n",
    "library(\"GEOquery\")\n",
    "library(\"tximport\")\n",
    "library(\"GenomicFeatures\")\n",
    "library(\"biomaRt\")\n",
    "library(\"DESeq2\")"
   ]
  },
  {
   "cell_type": "code",
   "execution_count": null,
   "metadata": {},
   "outputs": [],
   "source": [
    "if (exists(\"altnorm\") == FALSE) {\n",
    "  altnorm <- FALSE\n",
    "}\n",
    "## before running script set altnorm <- 'userlog' or 'usevst' or 'useall' to\n",
    "## output additional normalize using deseq2's rlog or vst functions\n",
    "\n",
    "iscounts <- FALSE\n",
    "txlevel <- FALSE\n",
    "FAIL <- FALSE\n",
    "isnormalized <- FALSE\n",
    "TYPE <- NULL\n",
    "txtype <- 0\n",
    "is_directory <- FALSE\n",
    "getgeofiles <- FALSE\n",
    "seondaryfactor <- FALSE\n",
    "NORM <- FALSE\n"
   ]
  },
  {
   "cell_type": "markdown",
   "metadata": {},
   "source": [
    "## Import Data Files from GEO Directly\n",
    "Optional step to enable directly importing deposited data from a published experiment."
   ]
  },
  {
   "cell_type": "code",
   "execution_count": null,
   "metadata": {},
   "outputs": [],
   "source": [
    "getgeofiles <- askYesNo(\"Attempt to get data directly from GEO \\\"supplementary files\\\"? \")\n",
    "if (getgeofiles == TRUE) {\n",
    "  geoid <- readline(prompt = (\"Enter the GEOID for the datafiles (eg: GSE38786): \"))\n",
    "  geooutfiles <- getGEOSuppFiles(geoid, makeDirectory = TRUE, baseDir = getwd(),\n",
    "    fetch_files = TRUE, filter_regex = NULL)\n",
    "  cat(\"Getting experiment information from Series Matrix...\\n\")\n",
    "  gsefile <- getGEO(geoid)\n",
    "  phenotypedata <- as.data.frame(pData(phenoData(gsefile[[1]]))[, c(\"geo_accession\",\n",
    "    \"title\")], stringsAsFactors = FALSE)\n",
    "  rownames(phenotypedata) <- 1:nrow(phenotypedata)\n",
    "  geostructure <- pData(phenoData(gsefile[[1]]))\n",
    "  cat(\"\\n\")\n",
    "  print(phenotypedata)\n",
    "  cat(\"\\n\")\n",
    "  cat(\"Files acquired from GEO:\\n\")\n",
    "  geoimporttable <- as.data.frame(rownames(geooutfiles), stringsAsFactors = FALSE)\n",
    "  print(rownames(geooutfiles))\n",
    "  # print('All')\n",
    "  cat(\"\\n\")\n",
    "  if (nrow(geoimporttable) > 1) {\n",
    "    useall <- askYesNo(\"Use all downloaded files? (\\\"No\\\" allows you to select a specific file)\")\n",
    "    if (useall == TRUE) {\n",
    "      genematrix <- paste0(getwd(), \"/\", geoid)\n",
    "    }\n",
    "    if (useall == FALSE) {\n",
    "      geoselected <- readline(prompt = (\"Select which GEO file to use for downstream processing: \"))\n",
    "      geoselectednumber <- match(geoselected, cbind(rownames(geoimporttable),\n",
    "        geoimporttable)[, 1])\n",
    "      if (is.na(geoselectednumber) == TRUE) {\n",
    "        geoselectednumber <- match(geoselected, cbind(rownames(geoimporttable),\n",
    "          geoimporttable)[, 2])\n",
    "      }\n",
    "      outfile <- rownames(geooutfiles)[geoselectednumber]\n",
    "      if (file_ext(rownames(geooutfiles)[geoselectednumber]) == \"tar\") {\n",
    "        untar(rownames(geooutfiles)[geoselectednumber], exdir = paste0(dirname(rownames(geooutfiles)[geoselectednumber]),\n",
    "          \"/\", basename(tools::file_path_sans_ext(rownames(geooutfiles)[geoselectednumber]))))\n",
    "        outfile <- paste0(dirname(rownames(geooutfiles)[geoselectednumber]),\n",
    "          \"/\", basename(tools::file_path_sans_ext(rownames(geooutfiles)[geoselectednumber])))\n",
    "      }\n",
    "      genematrix <- outfile\n",
    "    }\n",
    "  } else if (nrow(geoimporttable) == 1) {\n",
    "    if (file_ext(rownames(geooutfiles)[1]) == \"tar\") {\n",
    "      untar(rownames(geooutfiles)[1], exdir = paste0(dirname(rownames(geooutfiles)[1]),\n",
    "        \"/\", basename(tools::file_path_sans_ext(rownames(geooutfiles)[1]))))\n",
    "      outfile <- paste0(dirname(rownames(geooutfiles)[1]), \"/\", basename(tools::file_path_sans_ext(rownames(geooutfiles)[1])))\n",
    "    } else {\n",
    "      outfile <- paste0(geoimporttable[1])\n",
    "    }\n",
    "    genematrix <- outfile\n",
    "  }\n",
    "\n",
    "  cat(\"\\n\")\n",
    "  cat(\"Experiment Imported.\\n\")\n",
    "  cat(\"\\n\")\n",
    "\n",
    "  findcounts <- apply(geostructure, 2, function(x) {\n",
    "    grepl(\"counts|Counts\", x)\n",
    "  })\n",
    "  if (any(findcounts) == TRUE) {\n",
    "    message(\"Series Matrix implies that this data consists of COUNTS:\\n\")\n",
    "    print(unique(geostructure[findcounts]))\n",
    "    iscounts <- askYesNo(\"Do you agree that this is gene COUNTS data? \")\n",
    "    cat(\"\\n\")\n",
    "    if (iscounts == TRUE) {\n",
    "      countsdetected <- TRUE\n",
    "      istx <- FALSE\n",
    "      TYPE <- \"COUNTS\"\n",
    "    }\n",
    "  } else if (any(findcounts) == FALSE) {\n",
    "    cat(\"We couldn't automatically set the datatype\\n\")\n",
    "    cat(\"We'll prompt you to manually select datatype next.\\n\")\n",
    "  }\n",
    "  findtxquant <- apply(geostructure, 2, function(x) {\n",
    "    grepl(\"almon|ailfish|allisto\", x)\n",
    "  })\n",
    "  if (any(findtxquant) == TRUE) {\n",
    "    cat(\"\\n\")\n",
    "    message(\"Series Matrix implies that this data might be transcript level quantifications:\\n\")\n",
    "    print(unique(geostructure[findtxquant]))\n",
    "    cat(\"\\n\")\n",
    "    message(\"Validate the presence of transcript level quantifications in data files, then continue.\\n\")\n",
    "    cat(\"\\n\")\n",
    "  }\n",
    "\n",
    "  findnormal <- apply(geostructure, 2, function(x) {\n",
    "    grepl(\"normalized|Normalized|NORMALIZED|normalised|Normalised|NORMALISED\",\n",
    "      x)\n",
    "  })\n",
    "  if (any(findnormal) == TRUE) {\n",
    "    message(\"Series Matrix implies that this data might be ALREADY NORMALIZED:\\n\")\n",
    "    print(unique(geostructure[findnormal]))\n",
    "    isnormalized <- askYesNo(\"Is this data already normalized? \")\n",
    "    if (isnormalized == TRUE) {\n",
    "      NORM <- TRUE\n",
    "      DESEQ2DONE <- FALSE\n",
    "    }\n",
    "  } else if (any(findnormal) == FALSE) {\n",
    "    message(\"Series Matrix implies that this data might require normalization.\\n\")\n",
    "    isnormalized <- askYesNo(\"Is this data already normalized? \")\n",
    "    if (isnormalized == FALSE) {\n",
    "      NORM <- FALSE\n",
    "      DESEQ2DONE <- FALSE\n",
    "    }\n",
    "  }\n",
    "\n",
    "}"
   ]
  },
  {
   "cell_type": "code",
   "execution_count": null,
   "metadata": {},
   "outputs": [],
   "source": []
  }
 ],
 "metadata": {
  "kernelspec": {
   "display_name": "R",
   "language": "R",
   "name": "ir"
  },
  "language_info": {
   "codemirror_mode": "r",
   "file_extension": ".r",
   "mimetype": "text/x-r-source",
   "name": "R",
   "pygments_lexer": "r",
   "version": "3.6.1"
  }
 },
 "nbformat": 4,
 "nbformat_minor": 2
}
